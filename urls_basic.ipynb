{
 "metadata": {
  "language_info": {
   "codemirror_mode": {
    "name": "ipython",
    "version": 3
   },
   "file_extension": ".py",
   "mimetype": "text/x-python",
   "name": "python",
   "nbconvert_exporter": "python",
   "pygments_lexer": "ipython3",
   "version": "3.9.1-final"
  },
  "orig_nbformat": 2,
  "kernelspec": {
   "name": "python3",
   "display_name": "Python 3.9.1 64-bit",
   "metadata": {
    "interpreter": {
     "hash": "7812ea015bdcee6f23a998adcdd2ef97c151c0c241b7b7070987d9313e41299d"
    }
   }
  }
 },
 "nbformat": 4,
 "nbformat_minor": 2,
 "cells": [
  {
   "cell_type": "code",
   "execution_count": 3,
   "metadata": {},
   "outputs": [
    {
     "output_type": "execute_result",
     "data": {
      "text/plain": [
       "                 id_channel                 date           domain\n",
       "0  UCnr6pbeXJmkNQJ9PSYle7QQ  2018-07-20 23:42:34  www.youtube.com\n",
       "1  UCnr6pbeXJmkNQJ9PSYle7QQ  2018-07-20 23:42:34  www.youtube.com\n",
       "2  UCnr6pbeXJmkNQJ9PSYle7QQ  2018-07-20 23:42:34  www.youtube.com\n",
       "3  UCnr6pbeXJmkNQJ9PSYle7QQ  2018-07-20 23:42:34  www.youtube.com\n",
       "4  UCnr6pbeXJmkNQJ9PSYle7QQ  2018-07-20 23:42:34  www.youtube.com"
      ],
      "text/html": "<div>\n<style scoped>\n    .dataframe tbody tr th:only-of-type {\n        vertical-align: middle;\n    }\n\n    .dataframe tbody tr th {\n        vertical-align: top;\n    }\n\n    .dataframe thead th {\n        text-align: right;\n    }\n</style>\n<table border=\"1\" class=\"dataframe\">\n  <thead>\n    <tr style=\"text-align: right;\">\n      <th></th>\n      <th>id_channel</th>\n      <th>date</th>\n      <th>domain</th>\n    </tr>\n  </thead>\n  <tbody>\n    <tr>\n      <th>0</th>\n      <td>UCnr6pbeXJmkNQJ9PSYle7QQ</td>\n      <td>2018-07-20 23:42:34</td>\n      <td>www.youtube.com</td>\n    </tr>\n    <tr>\n      <th>1</th>\n      <td>UCnr6pbeXJmkNQJ9PSYle7QQ</td>\n      <td>2018-07-20 23:42:34</td>\n      <td>www.youtube.com</td>\n    </tr>\n    <tr>\n      <th>2</th>\n      <td>UCnr6pbeXJmkNQJ9PSYle7QQ</td>\n      <td>2018-07-20 23:42:34</td>\n      <td>www.youtube.com</td>\n    </tr>\n    <tr>\n      <th>3</th>\n      <td>UCnr6pbeXJmkNQJ9PSYle7QQ</td>\n      <td>2018-07-20 23:42:34</td>\n      <td>www.youtube.com</td>\n    </tr>\n    <tr>\n      <th>4</th>\n      <td>UCnr6pbeXJmkNQJ9PSYle7QQ</td>\n      <td>2018-07-20 23:42:34</td>\n      <td>www.youtube.com</td>\n    </tr>\n  </tbody>\n</table>\n</div>"
     },
     "metadata": {},
     "execution_count": 3
    }
   ],
   "source": [
    "%matplotlib inline\n",
    "\n",
    "import numpy as np\n",
    "import pandas as pd\n",
    "import matplotlib\n",
    "import matplotlib.pyplot as plt\n",
    "\n",
    "datafile = '../urls_sample.csv'\n",
    "\n",
    "#df = pd.read_csv(datafile)\n",
    "df = pd.read_csv(datafile,usecols=['id_channel','date','domain'])\n",
    "\n",
    "df.head()"
   ]
  },
  {
   "cell_type": "code",
   "execution_count": 4,
   "metadata": {},
   "outputs": [
    {
     "output_type": "execute_result",
     "data": {
      "text/plain": [
       "                      id_channel                 date       domain\n",
       "count                     570728               570728       491193\n",
       "unique                       302                82926         2964\n",
       "top     UCwQlo5C6pKtjMxbkX4a3Rhw  2018-07-28 04:56:32  youtube.com\n",
       "freq                        7439                  108       111029"
      ],
      "text/html": "<div>\n<style scoped>\n    .dataframe tbody tr th:only-of-type {\n        vertical-align: middle;\n    }\n\n    .dataframe tbody tr th {\n        vertical-align: top;\n    }\n\n    .dataframe thead th {\n        text-align: right;\n    }\n</style>\n<table border=\"1\" class=\"dataframe\">\n  <thead>\n    <tr style=\"text-align: right;\">\n      <th></th>\n      <th>id_channel</th>\n      <th>date</th>\n      <th>domain</th>\n    </tr>\n  </thead>\n  <tbody>\n    <tr>\n      <th>count</th>\n      <td>570728</td>\n      <td>570728</td>\n      <td>491193</td>\n    </tr>\n    <tr>\n      <th>unique</th>\n      <td>302</td>\n      <td>82926</td>\n      <td>2964</td>\n    </tr>\n    <tr>\n      <th>top</th>\n      <td>UCwQlo5C6pKtjMxbkX4a3Rhw</td>\n      <td>2018-07-28 04:56:32</td>\n      <td>youtube.com</td>\n    </tr>\n    <tr>\n      <th>freq</th>\n      <td>7439</td>\n      <td>108</td>\n      <td>111029</td>\n    </tr>\n  </tbody>\n</table>\n</div>"
     },
     "metadata": {},
     "execution_count": 4
    }
   ],
   "source": [
    "df.describe()\n",
    "\n",
    "# percentage of videos that have merc/cf links\n",
    "# top urls\n",
    "# URL profiles\n",
    "# video categories and merch sites or the other way round\n",
    "# amazon URLs, youtube as an advertising platform"
   ]
  }
 ]
}